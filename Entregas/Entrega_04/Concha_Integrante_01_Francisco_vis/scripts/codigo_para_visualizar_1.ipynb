{
  "cells": [
    {
      "cell_type": "code",
      "execution_count": 1,
      "metadata": {
        "id": "3wQqFIWvA1ly"
      },
      "outputs": [],
      "source": [
        "import pandas as pd\n",
        "df = pd.read_csv('/content/drive/MyDrive/Colab Notebooks/Actividad_fisica_y_salud_mental2.csv', delimiter=',')"
      ]
    },
    {
      "cell_type": "code",
      "execution_count": 7,
      "metadata": {
        "id": "4OokCu-lC0Dd"
      },
      "outputs": [],
      "source": [
        "import altair as alt\n",
        "\n",
        "df_largo = df.melt(id_vars='Variables',\n",
        "                  var_name='Horas de ejercicio',\n",
        "                  value_name='Promedios')\n",
        "\n",
        "colores = {\n",
        "    'Ansiedad - Estado': 'blue',\n",
        "    'Estrés': 'red',\n",
        "    'Autoestima total': '#82c294',\n",
        "    'Autoestima positiva': '#3ADF00',\n",
        "    'Autoestima negativa': '#298A08'\n",
        "}\n",
        "\n",
        "grafico = alt.Chart(df_largo).mark_line(point=True).encode(\n",
        "    x=alt.X('Horas de ejercicio:N', title='Horas de ejercicio a la semana',\n",
        "            sort=['No realizó ejercicio', 'Menos de 1 hora', '1 a 2 horas', '2 a 3 horas', '3 a 4 horas', '4 a 5 horas', '5 o más horas']),\n",
        "    y=alt.Y('Promedios:Q', title='Promedio', scale=alt.Scale(domain=[2, 4])),\n",
        "    color=alt.Color('Variables:N', title='Indicadores', scale=alt.Scale(domain=list(colores.keys()), range=list(colores.values()))),\n",
        "    tooltip=['Horas de ejercicio', 'Variables', 'Promedios']\n",
        ").properties(\n",
        "    title='Relación entre Horas de ejercicio y Estrés, Ansiedad y Autoestima',\n",
        "    width=400\n",
        ").interactive()\n",
        "\n",
        "grafico\n",
        "\n",
        "grafico.save('grafico.html')"
      ]
    }
  ],
  "metadata": {
    "colab": {
      "provenance": []
    },
    "kernelspec": {
      "display_name": "Python 3",
      "name": "python3"
    },
    "language_info": {
      "name": "python"
    }
  },
  "nbformat": 4,
  "nbformat_minor": 0
}