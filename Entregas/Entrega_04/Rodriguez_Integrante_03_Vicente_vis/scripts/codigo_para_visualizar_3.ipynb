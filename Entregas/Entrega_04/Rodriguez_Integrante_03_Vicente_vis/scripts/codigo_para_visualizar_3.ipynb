{
  "nbformat": 4,
  "nbformat_minor": 0,
  "metadata": {
    "colab": {
      "provenance": []
    },
    "kernelspec": {
      "name": "python3",
      "display_name": "Python 3"
    },
    "language_info": {
      "name": "python"
    }
  },
  "cells": [
    {
      "cell_type": "code",
      "source": [
        "from google.colab import drive\n",
        "drive.mount('/content/drive')"
      ],
      "metadata": {
        "colab": {
          "base_uri": "https://localhost:8080/"
        },
        "id": "L4Atnq6L5TGm",
        "outputId": "1ec45457-d2d4-4947-c55f-3363b62b4da9"
      },
      "execution_count": 1,
      "outputs": [
        {
          "output_type": "stream",
          "name": "stdout",
          "text": [
            "Drive already mounted at /content/drive; to attempt to forcibly remount, call drive.mount(\"/content/drive\", force_remount=True).\n"
          ]
        }
      ]
    },
    {
      "cell_type": "code",
      "source": [
        "import altair as alt\n",
        "import pandas as pd\n",
        "\n",
        "source = pd.DataFrame({\n",
        "    'Nivel de estrés': ['Leve', 'Severo'], #se considera el nivel moderado y normal dentro de leve\n",
        "    'Número de personas': [57, 14]\n",
        "})\n",
        "\n",
        "alt.Chart(source).mark_bar().encode(\n",
        "    x='Nivel de estrés',\n",
        "    y='Número de personas'\n",
        ")"
      ],
      "metadata": {
        "colab": {
          "base_uri": "https://localhost:8080/",
          "height": 391
        },
        "id": "7XQI5kyLpHdo",
        "outputId": "e2311828-c416-4b58-91dd-1cad8c04196a"
      },
      "execution_count": 2,
      "outputs": [
        {
          "output_type": "execute_result",
          "data": {
            "text/html": [
              "\n",
              "<div id=\"altair-viz-dbffedc793c141808d6c42437956fbec\"></div>\n",
              "<script type=\"text/javascript\">\n",
              "  var VEGA_DEBUG = (typeof VEGA_DEBUG == \"undefined\") ? {} : VEGA_DEBUG;\n",
              "  (function(spec, embedOpt){\n",
              "    let outputDiv = document.currentScript.previousElementSibling;\n",
              "    if (outputDiv.id !== \"altair-viz-dbffedc793c141808d6c42437956fbec\") {\n",
              "      outputDiv = document.getElementById(\"altair-viz-dbffedc793c141808d6c42437956fbec\");\n",
              "    }\n",
              "    const paths = {\n",
              "      \"vega\": \"https://cdn.jsdelivr.net/npm//vega@5?noext\",\n",
              "      \"vega-lib\": \"https://cdn.jsdelivr.net/npm//vega-lib?noext\",\n",
              "      \"vega-lite\": \"https://cdn.jsdelivr.net/npm//vega-lite@4.17.0?noext\",\n",
              "      \"vega-embed\": \"https://cdn.jsdelivr.net/npm//vega-embed@6?noext\",\n",
              "    };\n",
              "\n",
              "    function maybeLoadScript(lib, version) {\n",
              "      var key = `${lib.replace(\"-\", \"\")}_version`;\n",
              "      return (VEGA_DEBUG[key] == version) ?\n",
              "        Promise.resolve(paths[lib]) :\n",
              "        new Promise(function(resolve, reject) {\n",
              "          var s = document.createElement('script');\n",
              "          document.getElementsByTagName(\"head\")[0].appendChild(s);\n",
              "          s.async = true;\n",
              "          s.onload = () => {\n",
              "            VEGA_DEBUG[key] = version;\n",
              "            return resolve(paths[lib]);\n",
              "          };\n",
              "          s.onerror = () => reject(`Error loading script: ${paths[lib]}`);\n",
              "          s.src = paths[lib];\n",
              "        });\n",
              "    }\n",
              "\n",
              "    function showError(err) {\n",
              "      outputDiv.innerHTML = `<div class=\"error\" style=\"color:red;\">${err}</div>`;\n",
              "      throw err;\n",
              "    }\n",
              "\n",
              "    function displayChart(vegaEmbed) {\n",
              "      vegaEmbed(outputDiv, spec, embedOpt)\n",
              "        .catch(err => showError(`Javascript Error: ${err.message}<br>This usually means there's a typo in your chart specification. See the javascript console for the full traceback.`));\n",
              "    }\n",
              "\n",
              "    if(typeof define === \"function\" && define.amd) {\n",
              "      requirejs.config({paths});\n",
              "      require([\"vega-embed\"], displayChart, err => showError(`Error loading script: ${err.message}`));\n",
              "    } else {\n",
              "      maybeLoadScript(\"vega\", \"5\")\n",
              "        .then(() => maybeLoadScript(\"vega-lite\", \"4.17.0\"))\n",
              "        .then(() => maybeLoadScript(\"vega-embed\", \"6\"))\n",
              "        .catch(showError)\n",
              "        .then(() => displayChart(vegaEmbed));\n",
              "    }\n",
              "  })({\"config\": {\"view\": {\"continuousWidth\": 400, \"continuousHeight\": 300}}, \"data\": {\"name\": \"data-019ce5c8418e26cdf3cdf32dece66662\"}, \"mark\": \"bar\", \"encoding\": {\"x\": {\"field\": \"Nivel de estr\\u00e9s\", \"type\": \"nominal\"}, \"y\": {\"field\": \"N\\u00famero de personas\", \"type\": \"quantitative\"}}, \"$schema\": \"https://vega.github.io/schema/vega-lite/v4.17.0.json\", \"datasets\": {\"data-019ce5c8418e26cdf3cdf32dece66662\": [{\"Nivel de estr\\u00e9s\": \"Leve\", \"N\\u00famero de personas\": 57}, {\"Nivel de estr\\u00e9s\": \"Severo\", \"N\\u00famero de personas\": 14}]}}, {\"mode\": \"vega-lite\"});\n",
              "</script>"
            ],
            "text/plain": [
              "alt.Chart(...)"
            ]
          },
          "metadata": {},
          "execution_count": 2
        }
      ]
    },
    {
      "cell_type": "code",
      "source": [
        "source = pd.DataFrame({\n",
        "    'Nivel de actividad física': ['Bajo', 'Moderado', 'Alto'],\n",
        "    'Número de personas': [8, 23, 40]\n",
        "})\n",
        "\n",
        "alt.Chart(source).mark_bar().encode(\n",
        "    x='Nivel de actividad física',\n",
        "    y='Número de personas')\n"
      ],
      "metadata": {
        "colab": {
          "base_uri": "https://localhost:8080/",
          "height": 405
        },
        "id": "pShi6Mzbp7Zs",
        "outputId": "c196c8a5-bbb1-49b4-aca5-caf91074ca9f"
      },
      "execution_count": 3,
      "outputs": [
        {
          "output_type": "execute_result",
          "data": {
            "text/html": [
              "\n",
              "<div id=\"altair-viz-50ff40d6e16849d5bbcd275b910bd073\"></div>\n",
              "<script type=\"text/javascript\">\n",
              "  var VEGA_DEBUG = (typeof VEGA_DEBUG == \"undefined\") ? {} : VEGA_DEBUG;\n",
              "  (function(spec, embedOpt){\n",
              "    let outputDiv = document.currentScript.previousElementSibling;\n",
              "    if (outputDiv.id !== \"altair-viz-50ff40d6e16849d5bbcd275b910bd073\") {\n",
              "      outputDiv = document.getElementById(\"altair-viz-50ff40d6e16849d5bbcd275b910bd073\");\n",
              "    }\n",
              "    const paths = {\n",
              "      \"vega\": \"https://cdn.jsdelivr.net/npm//vega@5?noext\",\n",
              "      \"vega-lib\": \"https://cdn.jsdelivr.net/npm//vega-lib?noext\",\n",
              "      \"vega-lite\": \"https://cdn.jsdelivr.net/npm//vega-lite@4.17.0?noext\",\n",
              "      \"vega-embed\": \"https://cdn.jsdelivr.net/npm//vega-embed@6?noext\",\n",
              "    };\n",
              "\n",
              "    function maybeLoadScript(lib, version) {\n",
              "      var key = `${lib.replace(\"-\", \"\")}_version`;\n",
              "      return (VEGA_DEBUG[key] == version) ?\n",
              "        Promise.resolve(paths[lib]) :\n",
              "        new Promise(function(resolve, reject) {\n",
              "          var s = document.createElement('script');\n",
              "          document.getElementsByTagName(\"head\")[0].appendChild(s);\n",
              "          s.async = true;\n",
              "          s.onload = () => {\n",
              "            VEGA_DEBUG[key] = version;\n",
              "            return resolve(paths[lib]);\n",
              "          };\n",
              "          s.onerror = () => reject(`Error loading script: ${paths[lib]}`);\n",
              "          s.src = paths[lib];\n",
              "        });\n",
              "    }\n",
              "\n",
              "    function showError(err) {\n",
              "      outputDiv.innerHTML = `<div class=\"error\" style=\"color:red;\">${err}</div>`;\n",
              "      throw err;\n",
              "    }\n",
              "\n",
              "    function displayChart(vegaEmbed) {\n",
              "      vegaEmbed(outputDiv, spec, embedOpt)\n",
              "        .catch(err => showError(`Javascript Error: ${err.message}<br>This usually means there's a typo in your chart specification. See the javascript console for the full traceback.`));\n",
              "    }\n",
              "\n",
              "    if(typeof define === \"function\" && define.amd) {\n",
              "      requirejs.config({paths});\n",
              "      require([\"vega-embed\"], displayChart, err => showError(`Error loading script: ${err.message}`));\n",
              "    } else {\n",
              "      maybeLoadScript(\"vega\", \"5\")\n",
              "        .then(() => maybeLoadScript(\"vega-lite\", \"4.17.0\"))\n",
              "        .then(() => maybeLoadScript(\"vega-embed\", \"6\"))\n",
              "        .catch(showError)\n",
              "        .then(() => displayChart(vegaEmbed));\n",
              "    }\n",
              "  })({\"config\": {\"view\": {\"continuousWidth\": 400, \"continuousHeight\": 300}}, \"data\": {\"name\": \"data-76ca790ba1ba2b0d3a3dee684acbe232\"}, \"mark\": \"bar\", \"encoding\": {\"x\": {\"field\": \"Nivel de actividad f\\u00edsica\", \"type\": \"nominal\"}, \"y\": {\"field\": \"N\\u00famero de personas\", \"type\": \"quantitative\"}}, \"$schema\": \"https://vega.github.io/schema/vega-lite/v4.17.0.json\", \"datasets\": {\"data-76ca790ba1ba2b0d3a3dee684acbe232\": [{\"Nivel de actividad f\\u00edsica\": \"Bajo\", \"N\\u00famero de personas\": 8}, {\"Nivel de actividad f\\u00edsica\": \"Moderado\", \"N\\u00famero de personas\": 23}, {\"Nivel de actividad f\\u00edsica\": \"Alto\", \"N\\u00famero de personas\": 40}]}}, {\"mode\": \"vega-lite\"});\n",
              "</script>"
            ],
            "text/plain": [
              "alt.Chart(...)"
            ]
          },
          "metadata": {},
          "execution_count": 3
        }
      ]
    },
    {
      "cell_type": "code",
      "source": [
        "data = {\n",
        "    \"Nivel de actividad física\": [\"Bajo\", \"Bajo\", \"Moderado\", \"Moderado\", \"Alto\", \"Alto\"],\n",
        "    \"Nivel de estrés\": [\"Leve\", \"Severo\", \"Severo\", \"Leve\", \"Leve\", \"Severo\"],\n",
        "    \"Número de personas\": [5, 4, 15, 6, 33, 4]\n",
        "}\n",
        "\n",
        "df = pd.DataFrame(data)\n",
        "\n",
        "chart = alt.Chart(df).mark_bar().encode(\n",
        "    x=\"Nivel de actividad física:N\",\n",
        "    y=\"Número de personas:Q\",\n",
        "    color=\"Nivel de estrés:N\",\n",
        "    tooltip=[\"Nivel de actividad física\", \"Nivel de estrés\", \"Número de personas\"]\n",
        ")\n",
        "chart"
      ],
      "metadata": {
        "colab": {
          "base_uri": "https://localhost:8080/",
          "height": 405
        },
        "id": "l7VLo3wmi9Ji",
        "outputId": "1efb694e-7705-4385-f882-ceaca623d120"
      },
      "execution_count": 17,
      "outputs": [
        {
          "output_type": "execute_result",
          "data": {
            "text/html": [
              "\n",
              "<div id=\"altair-viz-49827e40eb68412bb8def034369672f8\"></div>\n",
              "<script type=\"text/javascript\">\n",
              "  var VEGA_DEBUG = (typeof VEGA_DEBUG == \"undefined\") ? {} : VEGA_DEBUG;\n",
              "  (function(spec, embedOpt){\n",
              "    let outputDiv = document.currentScript.previousElementSibling;\n",
              "    if (outputDiv.id !== \"altair-viz-49827e40eb68412bb8def034369672f8\") {\n",
              "      outputDiv = document.getElementById(\"altair-viz-49827e40eb68412bb8def034369672f8\");\n",
              "    }\n",
              "    const paths = {\n",
              "      \"vega\": \"https://cdn.jsdelivr.net/npm//vega@5?noext\",\n",
              "      \"vega-lib\": \"https://cdn.jsdelivr.net/npm//vega-lib?noext\",\n",
              "      \"vega-lite\": \"https://cdn.jsdelivr.net/npm//vega-lite@4.17.0?noext\",\n",
              "      \"vega-embed\": \"https://cdn.jsdelivr.net/npm//vega-embed@6?noext\",\n",
              "    };\n",
              "\n",
              "    function maybeLoadScript(lib, version) {\n",
              "      var key = `${lib.replace(\"-\", \"\")}_version`;\n",
              "      return (VEGA_DEBUG[key] == version) ?\n",
              "        Promise.resolve(paths[lib]) :\n",
              "        new Promise(function(resolve, reject) {\n",
              "          var s = document.createElement('script');\n",
              "          document.getElementsByTagName(\"head\")[0].appendChild(s);\n",
              "          s.async = true;\n",
              "          s.onload = () => {\n",
              "            VEGA_DEBUG[key] = version;\n",
              "            return resolve(paths[lib]);\n",
              "          };\n",
              "          s.onerror = () => reject(`Error loading script: ${paths[lib]}`);\n",
              "          s.src = paths[lib];\n",
              "        });\n",
              "    }\n",
              "\n",
              "    function showError(err) {\n",
              "      outputDiv.innerHTML = `<div class=\"error\" style=\"color:red;\">${err}</div>`;\n",
              "      throw err;\n",
              "    }\n",
              "\n",
              "    function displayChart(vegaEmbed) {\n",
              "      vegaEmbed(outputDiv, spec, embedOpt)\n",
              "        .catch(err => showError(`Javascript Error: ${err.message}<br>This usually means there's a typo in your chart specification. See the javascript console for the full traceback.`));\n",
              "    }\n",
              "\n",
              "    if(typeof define === \"function\" && define.amd) {\n",
              "      requirejs.config({paths});\n",
              "      require([\"vega-embed\"], displayChart, err => showError(`Error loading script: ${err.message}`));\n",
              "    } else {\n",
              "      maybeLoadScript(\"vega\", \"5\")\n",
              "        .then(() => maybeLoadScript(\"vega-lite\", \"4.17.0\"))\n",
              "        .then(() => maybeLoadScript(\"vega-embed\", \"6\"))\n",
              "        .catch(showError)\n",
              "        .then(() => displayChart(vegaEmbed));\n",
              "    }\n",
              "  })({\"config\": {\"view\": {\"continuousWidth\": 400, \"continuousHeight\": 300}}, \"data\": {\"name\": \"data-76d710328cda13b9c3522355a614866b\"}, \"mark\": \"bar\", \"encoding\": {\"color\": {\"field\": \"Nivel de estr\\u00e9s\", \"type\": \"nominal\"}, \"tooltip\": [{\"field\": \"Nivel de actividad f\\u00edsica\", \"type\": \"nominal\"}, {\"field\": \"Nivel de estr\\u00e9s\", \"type\": \"nominal\"}, {\"field\": \"N\\u00famero de personas\", \"type\": \"quantitative\"}], \"x\": {\"field\": \"Nivel de actividad f\\u00edsica\", \"type\": \"nominal\"}, \"y\": {\"field\": \"N\\u00famero de personas\", \"type\": \"quantitative\"}}, \"$schema\": \"https://vega.github.io/schema/vega-lite/v4.17.0.json\", \"datasets\": {\"data-76d710328cda13b9c3522355a614866b\": [{\"Nivel de actividad f\\u00edsica\": \"Bajo\", \"Nivel de estr\\u00e9s\": \"Leve\", \"N\\u00famero de personas\": 5}, {\"Nivel de actividad f\\u00edsica\": \"Bajo\", \"Nivel de estr\\u00e9s\": \"Severo\", \"N\\u00famero de personas\": 4}, {\"Nivel de actividad f\\u00edsica\": \"Moderado\", \"Nivel de estr\\u00e9s\": \"Severo\", \"N\\u00famero de personas\": 15}, {\"Nivel de actividad f\\u00edsica\": \"Moderado\", \"Nivel de estr\\u00e9s\": \"Leve\", \"N\\u00famero de personas\": 6}, {\"Nivel de actividad f\\u00edsica\": \"Alto\", \"Nivel de estr\\u00e9s\": \"Leve\", \"N\\u00famero de personas\": 33}, {\"Nivel de actividad f\\u00edsica\": \"Alto\", \"Nivel de estr\\u00e9s\": \"Severo\", \"N\\u00famero de personas\": 4}]}}, {\"mode\": \"vega-lite\"});\n",
              "</script>"
            ],
            "text/plain": [
              "alt.Chart(...)"
            ]
          },
          "metadata": {},
          "execution_count": 17
        }
      ]
    }
  ]
}