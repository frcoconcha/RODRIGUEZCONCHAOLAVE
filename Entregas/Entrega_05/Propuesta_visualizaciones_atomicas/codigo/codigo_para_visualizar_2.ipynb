{
  "nbformat": 4,
  "nbformat_minor": 0,
  "metadata": {
    "colab": {
      "provenance": []
    },
    "kernelspec": {
      "name": "python3",
      "display_name": "Python 3"
    },
    "language_info": {
      "name": "python"
    }
  },
  "cells": [
    {
      "cell_type": "code",
      "execution_count": null,
      "metadata": {
        "id": "8aWt2h9PX8Ru"
      },
      "outputs": [],
      "source": []
    },
    {
      "cell_type": "code",
      "source": [
        "from google.colab import drive\n",
        "drive.mount('/content/drive')"
      ],
      "metadata": {
        "colab": {
          "base_uri": "https://localhost:8080/"
        },
        "id": "zp04VYUzX-9h",
        "outputId": "25ae1a9d-bd18-47a6-c35c-f43474c30ed6"
      },
      "execution_count": null,
      "outputs": [
        {
          "output_type": "stream",
          "name": "stdout",
          "text": [
            "Mounted at /content/drive\n"
          ]
        }
      ]
    },
    {
      "cell_type": "code",
      "source": [
        "import pandas as pd\n",
        "df = pd.read_csv('/content/drive/MyDrive/Colab Notebooks/circulo/TablaDatosLimpios.csv', delimiter=',')"
      ],
      "metadata": {
        "id": "bkRh7jiKYiDn"
      },
      "execution_count": null,
      "outputs": []
    },
    {
      "cell_type": "code",
      "source": [
        "import altair as alt"
      ],
      "metadata": {
        "id": "mwgkpWRFY4jr"
      },
      "execution_count": null,
      "outputs": []
    },
    {
      "cell_type": "code",
      "source": [
        "total_inicial = alt.Chart(df).mark_arc().encode(\n",
        "    theta=alt.Theta(field=\"TOTAL INICIAL\", type=\"quantitative\"),\n",
        "    color=alt.Color(field=\"RANGO\", type=\"nominal\", sort=[\"Rango normal\", \"Depresión leve\", \"Depresión leve moderada\", \"Depresión moderada-severa\", \"Depresión severa\"]),\n",
        "    tooltip=[\"RANGO\", \"TOTAL INICIAL\"]\n",
        ").properties(\n",
        "    title=\"Porcentajes de depresión inicial\"\n",
        ")\n",
        "\n",
        "total_final = alt.Chart(df).mark_arc().encode(\n",
        "    theta=alt.Theta(field=\"TOTAL FINAL\", type=\"quantitative\"),\n",
        "    color=alt.Color(field=\"RANGO\", type=\"nominal\", sort=[\"Rango normal\", \"Depresión leve\", \"Depresión leve moderada\", \"Depresión moderada-severa\", \"Depresión severa\"]),\n",
        "    tooltip=[\"RANGO\", \"TOTAL FINAL\"]\n",
        ").properties(\n",
        "    title=\"Porcentajes de depresión final\"\n",
        ")\n",
        "\n",
        "total_inicial | total_final\n",
        "\n",
        "total_inicial.save('total_inicial.html')\n",
        "total_final.save('total_final.html')\n"
      ],
      "metadata": {
        "id": "CUcfrDN9Y7Zp"
      },
      "execution_count": null,
      "outputs": []
    }
  ]
}