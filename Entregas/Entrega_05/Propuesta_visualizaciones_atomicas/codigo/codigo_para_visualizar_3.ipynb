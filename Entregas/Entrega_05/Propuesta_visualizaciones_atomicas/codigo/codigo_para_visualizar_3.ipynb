{
  "nbformat": 4,
  "nbformat_minor": 0,
  "metadata": {
    "colab": {
      "provenance": []
    },
    "kernelspec": {
      "name": "python3",
      "display_name": "Python 3"
    },
    "language_info": {
      "name": "python"
    }
  },
  "cells": [
    {
      "cell_type": "code",
      "source": [
        "import pandas as pd\n",
        "df = pd.read_csv('/content/drive/MyDrive/Colab Notebooks/personas/database_raw_04.csv', delimiter=',')"
      ],
      "metadata": {
        "id": "x_JUCZdIGaef"
      },
      "execution_count": null,
      "outputs": []
    },
    {
      "cell_type": "code",
      "execution_count": null,
      "metadata": {
        "id": "_u19WiTMGIEu"
      },
      "outputs": [],
      "source": [
        "import altair as alt\n",
        "\n",
        "graficopersonas = alt.Chart(df).mark_bar().encode(\n",
        "    x='Nivel de estrés',\n",
        "    y='Número de personas',\n",
        "    tooltip=['Nivel de estrés', 'Número de personas']\n",
        ").interactive()\n",
        "\n",
        "graficopersonas.save('graficopersonas.html')"
      ]
    },
    {
      "cell_type": "code",
      "source": [
        "df1 = pd.read_csv('/content/drive/MyDrive/Colab Notebooks/personas/database_raw_05.csv', delimiter=',')\n",
        "\n",
        "graficoactividad = alt.Chart(df1).mark_bar().encode(\n",
        "    x='Nivel de actividad física',\n",
        "    y='Número de personas',\n",
        "    tooltip=['Nivel de actividad física', 'Número de personas']\n",
        ").interactive()\n",
        "\n",
        "graficoactividad.save('graficoactividad.html')"
      ],
      "metadata": {
        "id": "34TJVfMmGzfu"
      },
      "execution_count": null,
      "outputs": []
    },
    {
      "cell_type": "code",
      "source": [
        "df2 = pd.read_csv('/content/drive/MyDrive/Colab Notebooks/personas/database_raw_06.csv', delimiter=',')\n",
        "\n",
        "graficogeneral = alt.Chart(df2).mark_bar().encode(\n",
        "    x=alt.X('Nivel de actividad física:N', title='Nivel de Actividad Física'),\n",
        "    y=alt.Y('Número de personas:Q', title='Número de Personas'),\n",
        "    color='Nivel de estrés:N',\n",
        "    tooltip=['Nivel de actividad física', 'Nivel de estrés', 'Número de personas']\n",
        ").interactive()\n",
        "\n",
        "graficogeneral.save('graficogeneral.html')"
      ],
      "metadata": {
        "id": "EhDgXGVEHvfi"
      },
      "execution_count": null,
      "outputs": []
    }
  ]
}